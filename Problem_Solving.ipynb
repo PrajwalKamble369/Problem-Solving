{
 "cells": [
  {
   "cell_type": "markdown",
   "id": "9bb076fd-6864-4abf-9417-948c6856bc12",
   "metadata": {},
   "source": [
    "## **Python Problem Solving**\n",
    "\n",
    "In this notebook we will solve 100 python coding questions for practice."
   ]
  },
  {
   "cell_type": "code",
   "execution_count": null,
   "id": "d5d49ced-f556-4293-82d6-ed8353a93f8a",
   "metadata": {},
   "outputs": [],
   "source": []
  }
 ],
 "metadata": {
  "kernelspec": {
   "display_name": "Python (ProblemSolving)",
   "language": "python",
   "name": "problemsolving"
  },
  "language_info": {
   "codemirror_mode": {
    "name": "ipython",
    "version": 3
   },
   "file_extension": ".py",
   "mimetype": "text/x-python",
   "name": "python",
   "nbconvert_exporter": "python",
   "pygments_lexer": "ipython3",
   "version": "3.13.2"
  }
 },
 "nbformat": 4,
 "nbformat_minor": 5
}
